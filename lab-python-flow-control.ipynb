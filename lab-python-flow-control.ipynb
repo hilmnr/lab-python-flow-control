{
 "cells": [
  {
   "cell_type": "markdown",
   "id": "d3bfc191-8885-42ee-b0a0-bbab867c6f9f",
   "metadata": {
    "tags": []
   },
   "source": [
    "# Lab | Flow Control"
   ]
  },
  {
   "cell_type": "code",
   "execution_count": null,
   "id": "7dd969be-9618-4639-84d9-7ce76d1dd181",
   "metadata": {},
   "outputs": [],
   "source": [
    "## Exercise: Managing Customer Orders Optimized\n",
    "\n",
    "In the last lab, you were starting an online store that sells various products. To ensure smooth operations, you developed a program that manages customer orders and inventory.\n",
    "\n",
    "You did so without using flow control. Let's go a step further and improve this code.\n",
    "\n",
    "Follow the steps below to complete the exercise:\n",
    "\n",
    "1. Look at your code from the lab data structures, and improve repeated code with loops.\n",
    "\n",
    "2. Instead of asking the user to input the name of three products that a customer wants to order, do the following:\n",
    "    \n",
    "    a. Prompt the user to enter the name of a product that a customer wants to order.\n",
    "    \n",
    "    b. Add the product name to the \"customer_orders\" set.\n",
    "    \n",
    "    c. Ask the user if they want to add another product (yes/no).\n",
    "    \n",
    "    d. Continue the loop until the user does not want to add another product.\n",
    "\n",
    "3. Instead of updating the inventory by subtracting 1 from the quantity of each product, only do it for  the products that were ordered (those in \"customer_orders\")."
   ]
  },
  {
   "cell_type": "code",
   "execution_count": 1,
   "id": "40971e6a-a4c5-4118-99c7-fb30968f755a",
   "metadata": {
    "tags": []
   },
   "outputs": [
    {
     "name": "stdin",
     "output_type": "stream",
     "text": [
      "Please input the quantity of t-shirt available in the inventory 1\n",
      "Please input the quantity of mug available in the inventory 2\n",
      "Please input the quantity of hat available in the inventory 6\n",
      "Please input the quantity of book available in the inventory 8\n",
      "Please input the quantity of keychain available in the inventory 9\n"
     ]
    },
    {
     "name": "stdout",
     "output_type": "stream",
     "text": [
      "{'t-shirt': 1, 'mug': 2, 'hat': 6, 'book': 8, 'keychain': 9}\n"
     ]
    }
   ],
   "source": [
    "## Step 1\n",
    "products = [\"t-shirt\", \"mug\", \"hat\", \"book\", \"keychain\"]\n",
    "inventory = {}\n",
    "for product in products:\n",
    "    quantity = int(input(f\"Please input the quantity of {product} available in the inventory\"))\n",
    "    inventory[product] = quantity\n",
    "print(inventory)"
   ]
  },
  {
   "cell_type": "code",
   "execution_count": 2,
   "id": "0c90bfee-e7af-40cb-8829-b1411659ef2c",
   "metadata": {
    "tags": []
   },
   "outputs": [],
   "source": [
    "customer_orders=set()"
   ]
  },
  {
   "cell_type": "code",
   "execution_count": 3,
   "id": "38991803-377c-4dba-bdf8-42e193fe7892",
   "metadata": {
    "tags": []
   },
   "outputs": [
    {
     "name": "stdin",
     "output_type": "stream",
     "text": [
      "Enter the name of product 1 to order:  mug\n",
      "Enter the name of product 2 to order:  book\n",
      "Enter the name of product 3 to order:  hat\n"
     ]
    }
   ],
   "source": [
    "for i in range(3):\n",
    "    product_name = input(f\"Enter the name of product {i + 1} to order: \")\n",
    "    if product_name in products:\n",
    "        customer_orders.add(product_name)\n",
    "    else:\n",
    "        print(f\"{product_name} is not a valid product.\")"
   ]
  },
  {
   "cell_type": "code",
   "execution_count": 9,
   "id": "42710434-1f77-4ed7-a916-eacf0662c83e",
   "metadata": {
    "tags": []
   },
   "outputs": [
    {
     "name": "stdin",
     "output_type": "stream",
     "text": [
      "Enter the name of the product to order:  mug\n",
      "Do you want to add another product? (yes/no):  yes\n",
      "Enter the name of the product to order:  book\n",
      "Do you want to add another product? (yes/no):  yes\n",
      "Enter the name of the product to order:  keychain\n",
      "Do you want to add another product? (yes/no):  no\n"
     ]
    },
    {
     "name": "stdout",
     "output_type": "stream",
     "text": [
      "You have ordered the following products: {'book', 'keychain', 'mug'}\n"
     ]
    }
   ],
   "source": [
    "## Step 2\n",
    "customer_orders = set()\n",
    "\n",
    "while True:\n",
    "    product_name = input(\"Enter the name of the product to order: \")\n",
    "    if product_name in products:\n",
    "        customer_orders.add(product_name)\n",
    "    else:\n",
    "        print(f\"{product_name} is not a valid product.\")\n",
    "    \n",
    "    add_another = input(\"Do you want to add another product? (yes/no): \").lower()\n",
    "    if add_another != \"yes\":\n",
    "        break\n",
    "\n",
    "# Display the customer's valid orders\n",
    "print (f\"You have ordered the following products: {customer_orders}\")"
   ]
  },
  {
   "cell_type": "code",
   "execution_count": 12,
   "id": "3e1de7c4-bb49-450e-9793-e3beebfb717c",
   "metadata": {
    "tags": []
   },
   "outputs": [
    {
     "name": "stdout",
     "output_type": "stream",
     "text": [
      "Updated Inventory:\n",
      "{'t-shirt': 1, 'mug': 0, 'hat': 6, 'book': 6, 'keychain': 7}\n"
     ]
    }
   ],
   "source": [
    "## Step 3\n",
    "for product in customer_orders:\n",
    "    if product in inventory and inventory[product] > 0:\n",
    "        inventory[product] -= 1\n",
    "    else:\n",
    "        print(f\"Warning: {product} is not in inventory or is out of stock.\")\n",
    "\n",
    "print(\"Updated Inventory:\")\n",
    "print(inventory)"
   ]
  }
 ],
 "metadata": {
  "kernelspec": {
   "display_name": "Python 3 (ipykernel)",
   "language": "python",
   "name": "python3"
  },
  "language_info": {
   "codemirror_mode": {
    "name": "ipython",
    "version": 3
   },
   "file_extension": ".py",
   "mimetype": "text/x-python",
   "name": "python",
   "nbconvert_exporter": "python",
   "pygments_lexer": "ipython3",
   "version": "3.11.4"
  }
 },
 "nbformat": 4,
 "nbformat_minor": 5
}
